{
 "cells": [
  {
   "cell_type": "markdown",
   "metadata": {},
   "source": [
    "# Tính toán cơ bản\n",
    "\n",
    "[![Open In Colab](https://colab.research.google.com/assets/colab-badge.svg)](https://colab.research.google.com/github/viet4777/basicalc4mse/blob/master/basiccalc.ipynb)"
   ]
  },
  {
   "cell_type": "code",
   "execution_count": 11,
   "metadata": {},
   "outputs": [
    {
     "name": "stdout",
     "output_type": "stream",
     "text": [
      "Đường kính khuôn = 22 mm; Diện tích = 380.13 mm2\n",
      "Áp lực = 25 MPa\n",
      "Lực ép = 9.5 kN; Lực ép = 969.03 kgf hay ~1.0 tấn\n"
     ]
    }
   ],
   "source": [
    "# Import math Library\n",
    "import math\n",
    "\n",
    "#Tính lực ép cho khuôn ép - biết đường kính khuôn\n",
    "# mm - đường kính khuôn, thường là 6, 12, 17 và 22 mm\n",
    "diameter = 22\n",
    "area = math.pi * (diameter/2)**2\n",
    "print (\"Đường kính khuôn = {:.0f} mm;\".format(diameter), \"Diện tích = {:.2f} mm2\".format(area))\n",
    "\n",
    "# Cho biết lực ép sử dụng\n",
    "#pressure, MPa = 1 N/mm2\n",
    "pressure = 25\n",
    "print (\"Áp lực = {:.0f} MPa\".format(pressure))\n",
    "#g - gia tốc trọng trường\n",
    "g = 9.807\n",
    " \n",
    "force = pressure*area\n",
    "print (\"Lực ép = {:.1f} kN;\".format(force/1000), \"Lực ép = {:.2f} kgf\".format(force/g), \"hay ~{:.1f} tấn\".format(force/g/1000.0))\n",
    "\n",
    "# Các việc cần nhớ\n",
    "# git add .\n",
    "# git commit -m \"say something\"\n",
    "# git push"
   ]
  },
  {
   "cell_type": "code",
   "execution_count": null,
   "metadata": {},
   "outputs": [],
   "source": []
  }
 ],
 "metadata": {
  "kernelspec": {
   "display_name": "Python 3",
   "language": "python",
   "name": "python3"
  },
  "language_info": {
   "codemirror_mode": {
    "name": "ipython",
    "version": 3
   },
   "file_extension": ".py",
   "mimetype": "text/x-python",
   "name": "python",
   "nbconvert_exporter": "python",
   "pygments_lexer": "ipython3",
   "version": "3.8.5"
  }
 },
 "nbformat": 4,
 "nbformat_minor": 4
}
